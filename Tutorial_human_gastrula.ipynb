{
 "cells": [
  {
   "cell_type": "markdown",
   "id": "dimensional-smith",
   "metadata": {},
   "source": [
    "# Tutorial for human gastrula dataset"
   ]
  },
  {
   "cell_type": "markdown",
   "id": "loaded-garlic",
   "metadata": {},
   "source": [
    "## CIARA functions\n",
    "Install the ciara_python package over pip (can of course also be done in command line)"
   ]
  },
  {
   "cell_type": "code",
   "execution_count": 2,
   "id": "patent-clinic",
   "metadata": {},
   "outputs": [
    {
     "name": "stdout",
     "output_type": "stream",
     "text": [
      "Requirement already satisfied: ciara_python in /opt/python/lib/python3.8/site-packages (0.9.7)\n",
      "Collecting ciara_python\n",
      "  Downloading ciara_python-0.9.8-py3-none-any.whl (4.1 kB)\n",
      "Requirement already satisfied: numpy in /opt/python/lib/python3.8/site-packages (from ciara_python) (1.19.5)\n",
      "Requirement already satisfied: scipy in /opt/python/lib/python3.8/site-packages (from ciara_python) (1.6.0)\n",
      "Installing collected packages: ciara-python\n",
      "  Attempting uninstall: ciara-python\n",
      "    Found existing installation: ciara-python 0.9.7\n",
      "    Uninstalling ciara-python-0.9.7:\n",
      "      Successfully uninstalled ciara-python-0.9.7\n",
      "Successfully installed ciara-python-0.9.8\n",
      "\u001b[33mWARNING: Running pip as the 'root' user can result in broken permissions and conflicting behaviour with the system package manager. It is recommended to use a virtual environment instead: https://pip.pypa.io/warnings/venv\u001b[0m\n",
      "\u001b[33mWARNING: You are using pip version 21.3.1; however, version 22.0.2 is available.\n",
      "You should consider upgrading via the '/opt/python/bin/python3.8 -m pip install --upgrade pip' command.\u001b[0m\n"
     ]
    }
   ],
   "source": [
    "import sys\n",
    "!{sys.executable} -m pip install --upgrade ciara_python"
   ]
  },
  {
   "cell_type": "markdown",
   "id": "boxed-habitat",
   "metadata": {},
   "source": [
    "Import the two important CIARA functions and other packages needed for this notebook."
   ]
  },
  {
   "cell_type": "code",
   "execution_count": 1,
   "id": "cloudy-joint",
   "metadata": {},
   "outputs": [],
   "source": [
    "import scanpy as sc\n",
    "import pandas as pd\n",
    "import time\n",
    "import numpy as np\n",
    "\n",
    "#from ciara_python import get_background_full, ciara\n",
    "from ciara import ciara\n",
    "from get_background_full import get_background_full"
   ]
  },
  {
   "cell_type": "markdown",
   "id": "excited-buyer",
   "metadata": {},
   "source": [
    "## Import human gastrula dataset and KNN matrix\n",
    "\n",
    "Note that for Anndata object the count matrix is transposed (cells x genes) compared to the Seurat pipeline in R (genes x cells)."
   ]
  },
  {
   "cell_type": "code",
   "execution_count": 2,
   "id": "mounted-control",
   "metadata": {},
   "outputs": [
    {
     "name": "stdout",
     "output_type": "stream",
     "text": [
      "AnnData object with n_obs × n_vars = 1195 × 36570\n"
     ]
    }
   ],
   "source": [
    "human_gast_norm = sc.read_csv('/root/host_home/Documents/CIARA/Data/norm_elmir_5_30_transposed.csv', delimiter=',')\n",
    "#change to your data path\n",
    "\n",
    "human_gast_norm = human_gast_norm.transpose()\n",
    "print(human_gast_norm)"
   ]
  },
  {
   "cell_type": "markdown",
   "id": "republican-convert",
   "metadata": {},
   "source": [
    "Calculate the PCA and from this the knn matrix for the dataset using the integrated scanpy function."
   ]
  },
  {
   "cell_type": "code",
   "execution_count": 11,
   "id": "adaptive-romance",
   "metadata": {},
   "outputs": [
    {
     "name": "stdout",
     "output_type": "stream",
     "text": [
      "(1195, 1195)\n"
     ]
    }
   ],
   "source": [
    "#sc.pp.highly_variable_genes(human_gast_norm, n_top_genes=2000)\n",
    "sc.tl.pca(human_gast_norm, n_comps=30)\n",
    "sc.pp.neighbors(human_gast_norm, n_neighbors=5, use_rep='X_pca')\n",
    "print(human_gast_norm.obsp[\"connectivities\"].shape)"
   ]
  },
  {
   "cell_type": "markdown",
   "id": "indirect-charles",
   "metadata": {},
   "source": [
    "## CIARA algorithm\n",
    "\n",
    "### Step 1: Find background genes\n",
    "\n",
    "The background genes get calculated and added as boolean values to the gene metadata in the AnnData object (in column `human_gast_norm.var[\"CIARA_background\"]`):"
   ]
  },
  {
   "cell_type": "code",
   "execution_count": 12,
   "id": "graduate-medicare",
   "metadata": {},
   "outputs": [
    {
     "name": "stdout",
     "output_type": "stream",
     "text": [
      "Background genes: 5057\n",
      "Execution time: 0.08s\n"
     ]
    }
   ],
   "source": [
    "t = time.perf_counter()\n",
    "\n",
    "get_background_full(human_gast_norm, threshold=1, n_cells=3, n_cells_high=20)\n",
    "\n",
    "elapsed_time = time.perf_counter() - t\n",
    "print(\"Execution time: \" + str(np.round(elapsed_time, 2)) + \"s\")"
   ]
  },
  {
   "cell_type": "markdown",
   "id": "conditional-contemporary",
   "metadata": {},
   "source": [
    "### Step 2: Calculate entropy of mixing of background genes\n",
    "\n",
    "The p value for each background gene is added to the gene metadata in the AnnData object (in column `human_gast_norm.var[\"CIARA_p_value\"]`):\n",
    "\n",
    "**Runtime (4-core MacBook Pro) per size of genes (no approximation):**\n",
    "- 1 gene: **0.2s**\n",
    "- 10 genes: **0.5s**\n",
    "- 100 genes: **4s**\n",
    "- 1000 genes: **10s**\n",
    "- 5057 genes *(this dataset)*: **270s**"
   ]
  },
  {
   "cell_type": "code",
   "execution_count": 13,
   "id": "personal-grace",
   "metadata": {},
   "outputs": [
    {
     "name": "stdout",
     "output_type": "stream",
     "text": [
      "\n",
      "## Running on 4 cores with a chunksize of 317\n",
      "\n",
      "---- Finished sucessfully! ----\n",
      "\n",
      "Execution Time: 27.26s\n"
     ]
    }
   ],
   "source": [
    "t = time.perf_counter()\n",
    "\n",
    "ciara(human_gast_norm, n_cores=4, p_value=0.001, odds_ratio=2, approximation=True, local_region=1)\n",
    "\n",
    "elapsed_time = time.perf_counter() - t\n",
    "print(\"\\nExecution Time: \" + str(np.round(elapsed_time, 2)) + \"s\")"
   ]
  },
  {
   "cell_type": "markdown",
   "id": "charged-bloom",
   "metadata": {},
   "source": [
    "## Ciara results\n",
    "\n",
    "We receive an extended AnnData object that contains the results in its gene metadata:\n"
   ]
  },
  {
   "cell_type": "code",
   "execution_count": 14,
   "id": "metric-python",
   "metadata": {},
   "outputs": [
    {
     "data": {
      "text/html": [
       "<div>\n",
       "<style scoped>\n",
       "    .dataframe tbody tr th:only-of-type {\n",
       "        vertical-align: middle;\n",
       "    }\n",
       "\n",
       "    .dataframe tbody tr th {\n",
       "        vertical-align: top;\n",
       "    }\n",
       "\n",
       "    .dataframe thead th {\n",
       "        text-align: right;\n",
       "    }\n",
       "</style>\n",
       "<table border=\"1\" class=\"dataframe\">\n",
       "  <thead>\n",
       "    <tr style=\"text-align: right;\">\n",
       "      <th></th>\n",
       "      <th>CIARA_p_value</th>\n",
       "      <th>CIARA_background</th>\n",
       "      <th>highly_variable</th>\n",
       "      <th>highly_variable_rank</th>\n",
       "      <th>means</th>\n",
       "      <th>variances</th>\n",
       "      <th>variances_norm</th>\n",
       "      <th>dispersions</th>\n",
       "      <th>dispersions_norm</th>\n",
       "    </tr>\n",
       "  </thead>\n",
       "  <tbody>\n",
       "    <tr>\n",
       "      <th>A1BG</th>\n",
       "      <td>NaN</td>\n",
       "      <td>False</td>\n",
       "      <td>False</td>\n",
       "      <td>NaN</td>\n",
       "      <td>0.019167</td>\n",
       "      <td>0.004321</td>\n",
       "      <td>0.468777</td>\n",
       "      <td>-1.058216</td>\n",
       "      <td>0.077933</td>\n",
       "    </tr>\n",
       "    <tr>\n",
       "      <th>A1BG.AS1</th>\n",
       "      <td>NaN</td>\n",
       "      <td>False</td>\n",
       "      <td>False</td>\n",
       "      <td>NaN</td>\n",
       "      <td>0.002272</td>\n",
       "      <td>0.001009</td>\n",
       "      <td>1.103726</td>\n",
       "      <td>0.326512</td>\n",
       "      <td>1.011968</td>\n",
       "    </tr>\n",
       "    <tr>\n",
       "      <th>A1CF</th>\n",
       "      <td>1.0</td>\n",
       "      <td>True</td>\n",
       "      <td>False</td>\n",
       "      <td>NaN</td>\n",
       "      <td>0.033122</td>\n",
       "      <td>0.015818</td>\n",
       "      <td>1.260520</td>\n",
       "      <td>0.567258</td>\n",
       "      <td>1.174357</td>\n",
       "    </tr>\n",
       "    <tr>\n",
       "      <th>A2M</th>\n",
       "      <td>NaN</td>\n",
       "      <td>False</td>\n",
       "      <td>True</td>\n",
       "      <td>78.0</td>\n",
       "      <td>0.272114</td>\n",
       "      <td>0.136295</td>\n",
       "      <td>3.418209</td>\n",
       "      <td>3.335733</td>\n",
       "      <td>3.041764</td>\n",
       "    </tr>\n",
       "    <tr>\n",
       "      <th>A2M.AS1</th>\n",
       "      <td>NaN</td>\n",
       "      <td>False</td>\n",
       "      <td>False</td>\n",
       "      <td>NaN</td>\n",
       "      <td>0.000310</td>\n",
       "      <td>0.000083</td>\n",
       "      <td>1.002971</td>\n",
       "      <td>-0.991899</td>\n",
       "      <td>0.122666</td>\n",
       "    </tr>\n",
       "    <tr>\n",
       "      <th>...</th>\n",
       "      <td>...</td>\n",
       "      <td>...</td>\n",
       "      <td>...</td>\n",
       "      <td>...</td>\n",
       "      <td>...</td>\n",
       "      <td>...</td>\n",
       "      <td>...</td>\n",
       "      <td>...</td>\n",
       "      <td>...</td>\n",
       "    </tr>\n",
       "    <tr>\n",
       "      <th>ZXDC</th>\n",
       "      <td>1.0</td>\n",
       "      <td>True</td>\n",
       "      <td>False</td>\n",
       "      <td>NaN</td>\n",
       "      <td>0.050461</td>\n",
       "      <td>0.023791</td>\n",
       "      <td>1.112799</td>\n",
       "      <td>0.300321</td>\n",
       "      <td>0.994301</td>\n",
       "    </tr>\n",
       "    <tr>\n",
       "      <th>ZYG11A</th>\n",
       "      <td>NaN</td>\n",
       "      <td>False</td>\n",
       "      <td>False</td>\n",
       "      <td>NaN</td>\n",
       "      <td>0.001977</td>\n",
       "      <td>0.000618</td>\n",
       "      <td>1.283750</td>\n",
       "      <td>-0.500891</td>\n",
       "      <td>0.453864</td>\n",
       "    </tr>\n",
       "    <tr>\n",
       "      <th>ZYG11B</th>\n",
       "      <td>NaN</td>\n",
       "      <td>False</td>\n",
       "      <td>False</td>\n",
       "      <td>NaN</td>\n",
       "      <td>0.142985</td>\n",
       "      <td>0.070245</td>\n",
       "      <td>1.153438</td>\n",
       "      <td>0.589084</td>\n",
       "      <td>1.189079</td>\n",
       "    </tr>\n",
       "    <tr>\n",
       "      <th>ZYX</th>\n",
       "      <td>NaN</td>\n",
       "      <td>False</td>\n",
       "      <td>True</td>\n",
       "      <td>NaN</td>\n",
       "      <td>0.219129</td>\n",
       "      <td>0.100239</td>\n",
       "      <td>1.089465</td>\n",
       "      <td>1.058813</td>\n",
       "      <td>1.505924</td>\n",
       "    </tr>\n",
       "    <tr>\n",
       "      <th>ZZEF1</th>\n",
       "      <td>1.0</td>\n",
       "      <td>True</td>\n",
       "      <td>False</td>\n",
       "      <td>NaN</td>\n",
       "      <td>0.023389</td>\n",
       "      <td>0.011663</td>\n",
       "      <td>1.452698</td>\n",
       "      <td>0.516049</td>\n",
       "      <td>1.139816</td>\n",
       "    </tr>\n",
       "  </tbody>\n",
       "</table>\n",
       "<p>36570 rows × 9 columns</p>\n",
       "</div>"
      ],
      "text/plain": [
       "          CIARA_p_value  CIARA_background  highly_variable  \\\n",
       "A1BG                NaN             False            False   \n",
       "A1BG.AS1            NaN             False            False   \n",
       "A1CF                1.0              True            False   \n",
       "A2M                 NaN             False             True   \n",
       "A2M.AS1             NaN             False            False   \n",
       "...                 ...               ...              ...   \n",
       "ZXDC                1.0              True            False   \n",
       "ZYG11A              NaN             False            False   \n",
       "ZYG11B              NaN             False            False   \n",
       "ZYX                 NaN             False             True   \n",
       "ZZEF1               1.0              True            False   \n",
       "\n",
       "          highly_variable_rank     means  variances  variances_norm  \\\n",
       "A1BG                       NaN  0.019167   0.004321        0.468777   \n",
       "A1BG.AS1                   NaN  0.002272   0.001009        1.103726   \n",
       "A1CF                       NaN  0.033122   0.015818        1.260520   \n",
       "A2M                       78.0  0.272114   0.136295        3.418209   \n",
       "A2M.AS1                    NaN  0.000310   0.000083        1.002971   \n",
       "...                        ...       ...        ...             ...   \n",
       "ZXDC                       NaN  0.050461   0.023791        1.112799   \n",
       "ZYG11A                     NaN  0.001977   0.000618        1.283750   \n",
       "ZYG11B                     NaN  0.142985   0.070245        1.153438   \n",
       "ZYX                        NaN  0.219129   0.100239        1.089465   \n",
       "ZZEF1                      NaN  0.023389   0.011663        1.452698   \n",
       "\n",
       "          dispersions  dispersions_norm  \n",
       "A1BG        -1.058216          0.077933  \n",
       "A1BG.AS1     0.326512          1.011968  \n",
       "A1CF         0.567258          1.174357  \n",
       "A2M          3.335733          3.041764  \n",
       "A2M.AS1     -0.991899          0.122666  \n",
       "...               ...               ...  \n",
       "ZXDC         0.300321          0.994301  \n",
       "ZYG11A      -0.500891          0.453864  \n",
       "ZYG11B       0.589084          1.189079  \n",
       "ZYX          1.058813          1.505924  \n",
       "ZZEF1        0.516049          1.139816  \n",
       "\n",
       "[36570 rows x 9 columns]"
      ]
     },
     "execution_count": 14,
     "metadata": {},
     "output_type": "execute_result"
    }
   ],
   "source": [
    "human_gast_norm.var"
   ]
  },
  {
   "cell_type": "code",
   "execution_count": 15,
   "id": "subject-trader",
   "metadata": {},
   "outputs": [],
   "source": [
    "#human_gast_norm.var.to_csv('CIARA_python_scanpy_KNN.csv', sep=',')"
   ]
  }
 ],
 "metadata": {
  "kernelspec": {
   "display_name": "Python 3",
   "language": "python",
   "name": "python3"
  },
  "language_info": {
   "codemirror_mode": {
    "name": "ipython",
    "version": 3
   },
   "file_extension": ".py",
   "mimetype": "text/x-python",
   "name": "python",
   "nbconvert_exporter": "python",
   "pygments_lexer": "ipython3",
   "version": "3.8.6"
  }
 },
 "nbformat": 4,
 "nbformat_minor": 5
}
