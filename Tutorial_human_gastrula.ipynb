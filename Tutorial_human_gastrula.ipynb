{
 "cells": [
  {
   "cell_type": "markdown",
   "id": "individual-mapping",
   "metadata": {},
   "source": [
    "# Tutorial for human gastrula dataset"
   ]
  },
  {
   "cell_type": "markdown",
   "id": "cognitive-purse",
   "metadata": {},
   "source": [
    "## CIARA functions\n",
    "Install the ciara_python package over pip (can of course also be done in command line)"
   ]
  },
  {
   "cell_type": "code",
   "execution_count": 2,
   "id": "front-advertising",
   "metadata": {},
   "outputs": [
    {
     "name": "stdout",
     "output_type": "stream",
     "text": [
      "Requirement already satisfied: ciara_python in /opt/python/lib/python3.8/site-packages (0.9.7)\n",
      "Collecting ciara_python\n",
      "  Downloading ciara_python-0.9.8-py3-none-any.whl (4.1 kB)\n",
      "Requirement already satisfied: numpy in /opt/python/lib/python3.8/site-packages (from ciara_python) (1.19.5)\n",
      "Requirement already satisfied: scipy in /opt/python/lib/python3.8/site-packages (from ciara_python) (1.6.0)\n",
      "Installing collected packages: ciara-python\n",
      "  Attempting uninstall: ciara-python\n",
      "    Found existing installation: ciara-python 0.9.7\n",
      "    Uninstalling ciara-python-0.9.7:\n",
      "      Successfully uninstalled ciara-python-0.9.7\n",
      "Successfully installed ciara-python-0.9.8\n",
      "\u001b[33mWARNING: Running pip as the 'root' user can result in broken permissions and conflicting behaviour with the system package manager. It is recommended to use a virtual environment instead: https://pip.pypa.io/warnings/venv\u001b[0m\n",
      "\u001b[33mWARNING: You are using pip version 21.3.1; however, version 22.0.2 is available.\n",
      "You should consider upgrading via the '/opt/python/bin/python3.8 -m pip install --upgrade pip' command.\u001b[0m\n"
     ]
    }
   ],
   "source": [
    "import sys\n",
    "!{sys.executable} -m pip install --upgrade ciara_python"
   ]
  },
  {
   "cell_type": "markdown",
   "id": "atmospheric-foster",
   "metadata": {},
   "source": [
    "Import the two important entropyofmixing functions"
   ]
  },
  {
   "cell_type": "code",
   "execution_count": 3,
   "id": "covered-gnome",
   "metadata": {},
   "outputs": [],
   "source": [
    "from ciara_python import get_background_full, ciara"
   ]
  },
  {
   "cell_type": "markdown",
   "id": "dangerous-addiction",
   "metadata": {},
   "source": [
    "## Import human gastrula dataset and KNN matrix\n",
    "\n",
    "Note that for Anndata object the count matrix is transposed (cells x genes) compared to the Seurat pipeline in R (genes x cells)."
   ]
  },
  {
   "cell_type": "code",
   "execution_count": 4,
   "id": "crucial-seller",
   "metadata": {},
   "outputs": [
    {
     "name": "stdout",
     "output_type": "stream",
     "text": [
      "AnnData object with n_obs × n_vars = 1195 × 36570\n"
     ]
    }
   ],
   "source": [
    "import scanpy as sc\n",
    "import pandas as pd\n",
    "\n",
    "human_gast_norm = sc.read_csv('/root/host_home/Documents/CIARA/Data/norm_elmir_5_30_transposed.csv', delimiter=',')\n",
    "human_gast_norm = human_gast_norm.transpose()\n",
    "print(human_gast_norm)\n",
    "\n",
    "knn_matrix = pd.read_csv('/root/host_home/Documents/CIARA/Data/knn_matrix_elmir_5_30.csv', delimiter=',', index_col=0)\n"
   ]
  },
  {
   "cell_type": "markdown",
   "id": "assured-joshua",
   "metadata": {},
   "source": [
    "## CIARA algorithm\n",
    "\n",
    "### Step 1: Find background genes\n",
    "\n",
    "The background genes get calculated and added to the gene metadata in the AnnData object:"
   ]
  },
  {
   "cell_type": "code",
   "execution_count": 7,
   "id": "systematic-intelligence",
   "metadata": {},
   "outputs": [
    {
     "name": "stdout",
     "output_type": "stream",
     "text": [
      "Background genes: 5057\n",
      "Execution time: 0.07s\n"
     ]
    }
   ],
   "source": [
    "import time\n",
    "import numpy as np\n",
    "\n",
    "t = time.perf_counter()\n",
    "\n",
    "human_gast_norm.var[\"CIARA_background\"] = get_background_full(human_gast_norm, threshold=1, n_cells=3, n_cells_high=20)\n",
    "\n",
    "elapsed_time = time.perf_counter() - t\n",
    "print(\"Execution time: \" + str(np.round(elapsed_time, 2)) + \"s\")\n",
    "\n",
    "#background_genes = norm_adata.var_names[norm_adata.var[\"CIARA_background\"]]"
   ]
  },
  {
   "cell_type": "markdown",
   "id": "chubby-hometown",
   "metadata": {},
   "source": [
    "### Step 2: Calculate entropy of mixing of background genes\n",
    "\n",
    "The p value for each background gene is added to the gene metadata in the AnnData object:\n",
    "\n",
    "**Runtime (4-core MacBook Pro) per size of genes (no approximation):**\n",
    "- 1 gene: **0.2s**\n",
    "- 10 genes: **0.5s**\n",
    "- 100 genes: **4s**\n",
    "- 1000 genes: **10s**\n",
    "- 5057 genes *(this dataset)*: **270s**"
   ]
  },
  {
   "cell_type": "code",
   "execution_count": 8,
   "id": "optional-transformation",
   "metadata": {},
   "outputs": [
    {
     "name": "stdout",
     "output_type": "stream",
     "text": [
      "\n",
      "---- Finished sucessfully! ----\n",
      "\n",
      "Execution Time: 62.25s\n"
     ]
    }
   ],
   "source": [
    "#human_gast_small = human_gast_norm[:,0:1000]\n",
    "#human_gast_small = human_gast_small.copy()\n",
    "\n",
    "t = time.perf_counter()\n",
    "\n",
    "human_gast_norm.var[\"CIARA_p_value\"] = ciara(human_gast_norm, knn_matrix, n_cores=4, p_value=0.001, odds_ratio=2, approximation=True, local_region=1)\n",
    "\n",
    "elapsed_time = time.perf_counter() - t\n",
    "print(\"\\nExecution Time: \" + str(np.round(elapsed_time, 2)) + \"s\")"
   ]
  },
  {
   "cell_type": "markdown",
   "id": "effective-upset",
   "metadata": {},
   "source": [
    "## Ciara results\n",
    "\n",
    "We receive an extended AnnData object that contains the results in its gene metadata:\n"
   ]
  },
  {
   "cell_type": "code",
   "execution_count": 9,
   "id": "closed-soldier",
   "metadata": {},
   "outputs": [
    {
     "data": {
      "text/html": [
       "<div>\n",
       "<style scoped>\n",
       "    .dataframe tbody tr th:only-of-type {\n",
       "        vertical-align: middle;\n",
       "    }\n",
       "\n",
       "    .dataframe tbody tr th {\n",
       "        vertical-align: top;\n",
       "    }\n",
       "\n",
       "    .dataframe thead th {\n",
       "        text-align: right;\n",
       "    }\n",
       "</style>\n",
       "<table border=\"1\" class=\"dataframe\">\n",
       "  <thead>\n",
       "    <tr style=\"text-align: right;\">\n",
       "      <th></th>\n",
       "      <th>CIARA_background</th>\n",
       "      <th>CIARA_p_value</th>\n",
       "    </tr>\n",
       "  </thead>\n",
       "  <tbody>\n",
       "    <tr>\n",
       "      <th>A1BG</th>\n",
       "      <td>False</td>\n",
       "      <td>NaN</td>\n",
       "    </tr>\n",
       "    <tr>\n",
       "      <th>A1BG.AS1</th>\n",
       "      <td>False</td>\n",
       "      <td>NaN</td>\n",
       "    </tr>\n",
       "    <tr>\n",
       "      <th>A1CF</th>\n",
       "      <td>True</td>\n",
       "      <td>2.486022e-07</td>\n",
       "    </tr>\n",
       "    <tr>\n",
       "      <th>A2M</th>\n",
       "      <td>False</td>\n",
       "      <td>NaN</td>\n",
       "    </tr>\n",
       "    <tr>\n",
       "      <th>A2M.AS1</th>\n",
       "      <td>False</td>\n",
       "      <td>NaN</td>\n",
       "    </tr>\n",
       "    <tr>\n",
       "      <th>...</th>\n",
       "      <td>...</td>\n",
       "      <td>...</td>\n",
       "    </tr>\n",
       "    <tr>\n",
       "      <th>ZXDC</th>\n",
       "      <td>True</td>\n",
       "      <td>1.000000e+00</td>\n",
       "    </tr>\n",
       "    <tr>\n",
       "      <th>ZYG11A</th>\n",
       "      <td>False</td>\n",
       "      <td>NaN</td>\n",
       "    </tr>\n",
       "    <tr>\n",
       "      <th>ZYG11B</th>\n",
       "      <td>False</td>\n",
       "      <td>NaN</td>\n",
       "    </tr>\n",
       "    <tr>\n",
       "      <th>ZYX</th>\n",
       "      <td>False</td>\n",
       "      <td>NaN</td>\n",
       "    </tr>\n",
       "    <tr>\n",
       "      <th>ZZEF1</th>\n",
       "      <td>True</td>\n",
       "      <td>5.403624e-04</td>\n",
       "    </tr>\n",
       "  </tbody>\n",
       "</table>\n",
       "<p>36570 rows × 2 columns</p>\n",
       "</div>"
      ],
      "text/plain": [
       "          CIARA_background  CIARA_p_value\n",
       "A1BG                 False            NaN\n",
       "A1BG.AS1             False            NaN\n",
       "A1CF                  True   2.486022e-07\n",
       "A2M                  False            NaN\n",
       "A2M.AS1              False            NaN\n",
       "...                    ...            ...\n",
       "ZXDC                  True   1.000000e+00\n",
       "ZYG11A               False            NaN\n",
       "ZYG11B               False            NaN\n",
       "ZYX                  False            NaN\n",
       "ZZEF1                 True   5.403624e-04\n",
       "\n",
       "[36570 rows x 2 columns]"
      ]
     },
     "execution_count": 9,
     "metadata": {},
     "output_type": "execute_result"
    }
   ],
   "source": [
    "human_gast_norm.var"
   ]
  },
  {
   "cell_type": "code",
   "execution_count": null,
   "id": "entitled-place",
   "metadata": {},
   "outputs": [],
   "source": []
  }
 ],
 "metadata": {
  "kernelspec": {
   "display_name": "Python 3",
   "language": "python",
   "name": "python3"
  },
  "language_info": {
   "codemirror_mode": {
    "name": "ipython",
    "version": 3
   },
   "file_extension": ".py",
   "mimetype": "text/x-python",
   "name": "python",
   "nbconvert_exporter": "python",
   "pygments_lexer": "ipython3",
   "version": "3.8.6"
  }
 },
 "nbformat": 4,
 "nbformat_minor": 5
}
