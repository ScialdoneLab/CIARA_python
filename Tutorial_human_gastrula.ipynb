{
 "cells": [
  {
   "cell_type": "markdown",
   "metadata": {},
   "source": [
    "# Tutorial for human gastrula dataset"
   ]
  },
  {
   "cell_type": "markdown",
   "metadata": {},
   "source": [
    "## CIARA functions\n",
    "Install the ciara_python package over pip (can of course also be done in command line)"
   ]
  },
  {
   "cell_type": "code",
   "execution_count": 33,
   "metadata": {},
   "outputs": [
    {
     "name": "stdout",
     "output_type": "stream",
     "text": [
      "Requirement already satisfied: ciara_python in /Library/Frameworks/Python.framework/Versions/3.9/lib/python3.9/site-packages (0.9.9)\n",
      "Requirement already satisfied: scanpy in /Library/Frameworks/Python.framework/Versions/3.9/lib/python3.9/site-packages (from ciara_python) (1.9.0.dev74+g39c6a07b)\n",
      "Requirement already satisfied: numpy>=1.17.0 in /Library/Frameworks/Python.framework/Versions/3.9/lib/python3.9/site-packages (from scanpy->ciara_python) (1.19.4)\n",
      "Requirement already satisfied: patsy in /Library/Frameworks/Python.framework/Versions/3.9/lib/python3.9/site-packages (from scanpy->ciara_python) (0.5.2)\n",
      "Requirement already satisfied: matplotlib>=3.1.2 in /Library/Frameworks/Python.framework/Versions/3.9/lib/python3.9/site-packages (from scanpy->ciara_python) (3.3.3)\n",
      "Requirement already satisfied: networkx>=2.3 in /Library/Frameworks/Python.framework/Versions/3.9/lib/python3.9/site-packages (from scanpy->ciara_python) (2.6.3)\n",
      "Requirement already satisfied: tqdm in /Library/Frameworks/Python.framework/Versions/3.9/lib/python3.9/site-packages (from scanpy->ciara_python) (4.63.0)\n",
      "Requirement already satisfied: packaging in /Library/Frameworks/Python.framework/Versions/3.9/lib/python3.9/site-packages (from scanpy->ciara_python) (21.3)\n",
      "Requirement already satisfied: seaborn in /Library/Frameworks/Python.framework/Versions/3.9/lib/python3.9/site-packages (from scanpy->ciara_python) (0.11.1)\n",
      "Requirement already satisfied: h5py>=3 in /Library/Frameworks/Python.framework/Versions/3.9/lib/python3.9/site-packages (from scanpy->ciara_python) (3.1.0)\n",
      "Requirement already satisfied: statsmodels>=0.10.0rc2 in /Library/Frameworks/Python.framework/Versions/3.9/lib/python3.9/site-packages (from scanpy->ciara_python) (0.13.2)\n",
      "Requirement already satisfied: joblib in /Library/Frameworks/Python.framework/Versions/3.9/lib/python3.9/site-packages (from scanpy->ciara_python) (1.0.0)\n",
      "Requirement already satisfied: anndata>=0.7.4 in /Library/Frameworks/Python.framework/Versions/3.9/lib/python3.9/site-packages (from scanpy->ciara_python) (0.7.8)\n",
      "Requirement already satisfied: pandas>=0.21 in /Library/Frameworks/Python.framework/Versions/3.9/lib/python3.9/site-packages (from scanpy->ciara_python) (1.2.4)\n",
      "Requirement already satisfied: natsort in /Library/Frameworks/Python.framework/Versions/3.9/lib/python3.9/site-packages (from scanpy->ciara_python) (8.1.0)\n",
      "Requirement already satisfied: umap-learn>=0.3.10 in /Library/Frameworks/Python.framework/Versions/3.9/lib/python3.9/site-packages (from scanpy->ciara_python) (0.5.2)\n",
      "Requirement already satisfied: scipy>=1.4 in /Library/Frameworks/Python.framework/Versions/3.9/lib/python3.9/site-packages (from scanpy->ciara_python) (1.5.4)\n",
      "Requirement already satisfied: scikit-learn>=0.22 in /Library/Frameworks/Python.framework/Versions/3.9/lib/python3.9/site-packages (from scanpy->ciara_python) (0.24.1)\n",
      "Requirement already satisfied: numba>=0.41.0 in /Library/Frameworks/Python.framework/Versions/3.9/lib/python3.9/site-packages (from scanpy->ciara_python) (0.55.1)\n",
      "Requirement already satisfied: sinfo in /Library/Frameworks/Python.framework/Versions/3.9/lib/python3.9/site-packages (from scanpy->ciara_python) (0.3.4)\n",
      "Requirement already satisfied: xlrd<2.0 in /Library/Frameworks/Python.framework/Versions/3.9/lib/python3.9/site-packages (from anndata>=0.7.4->scanpy->ciara_python) (1.2.0)\n",
      "Requirement already satisfied: pyparsing!=2.0.4,!=2.1.2,!=2.1.6,>=2.0.3 in /Library/Frameworks/Python.framework/Versions/3.9/lib/python3.9/site-packages (from matplotlib>=3.1.2->scanpy->ciara_python) (2.4.7)\n",
      "Requirement already satisfied: cycler>=0.10 in /Library/Frameworks/Python.framework/Versions/3.9/lib/python3.9/site-packages (from matplotlib>=3.1.2->scanpy->ciara_python) (0.10.0)\n",
      "Requirement already satisfied: pillow>=6.2.0 in /Library/Frameworks/Python.framework/Versions/3.9/lib/python3.9/site-packages (from matplotlib>=3.1.2->scanpy->ciara_python) (8.0.1)\n",
      "Requirement already satisfied: kiwisolver>=1.0.1 in /Library/Frameworks/Python.framework/Versions/3.9/lib/python3.9/site-packages (from matplotlib>=3.1.2->scanpy->ciara_python) (1.3.1)\n",
      "Requirement already satisfied: python-dateutil>=2.1 in /Library/Frameworks/Python.framework/Versions/3.9/lib/python3.9/site-packages (from matplotlib>=3.1.2->scanpy->ciara_python) (2.8.1)\n",
      "Requirement already satisfied: setuptools in /Library/Frameworks/Python.framework/Versions/3.9/lib/python3.9/site-packages (from numba>=0.41.0->scanpy->ciara_python) (56.0.0)\n",
      "Requirement already satisfied: llvmlite<0.39,>=0.38.0rc1 in /Library/Frameworks/Python.framework/Versions/3.9/lib/python3.9/site-packages (from numba>=0.41.0->scanpy->ciara_python) (0.38.0)\n",
      "Requirement already satisfied: pytz>=2017.3 in /Library/Frameworks/Python.framework/Versions/3.9/lib/python3.9/site-packages (from pandas>=0.21->scanpy->ciara_python) (2021.1)\n",
      "Requirement already satisfied: threadpoolctl>=2.0.0 in /Library/Frameworks/Python.framework/Versions/3.9/lib/python3.9/site-packages (from scikit-learn>=0.22->scanpy->ciara_python) (2.1.0)\n",
      "Requirement already satisfied: six in /Library/Frameworks/Python.framework/Versions/3.9/lib/python3.9/site-packages (from patsy->scanpy->ciara_python) (1.15.0)\n",
      "Requirement already satisfied: pynndescent>=0.5 in /Library/Frameworks/Python.framework/Versions/3.9/lib/python3.9/site-packages (from umap-learn>=0.3.10->scanpy->ciara_python) (0.5.6)\n",
      "Requirement already satisfied: stdlib-list in /Library/Frameworks/Python.framework/Versions/3.9/lib/python3.9/site-packages (from sinfo->scanpy->ciara_python) (0.8.0)\n"
     ]
    }
   ],
   "source": [
    "import sys\n",
    "!{sys.executable} -m pip install --upgrade ciara_python"
   ]
  },
  {
   "cell_type": "markdown",
   "metadata": {},
   "source": [
    "Import the two important CIARA functions and other packages needed for this notebook."
   ]
  },
  {
   "cell_type": "code",
   "execution_count": 34,
   "metadata": {},
   "outputs": [],
   "source": [
    "import scanpy as sc\n",
    "import pandas as pd\n",
    "import time\n",
    "import numpy as np\n",
    "\n",
    "from ciara_python import get_background_full, ciara"
   ]
  },
  {
   "cell_type": "markdown",
   "metadata": {},
   "source": [
    "## Import human gastrula dataset and KNN matrix\n",
    "\n",
    "Note that for Anndata object the count matrix is transposed (cells x genes) compared to the Seurat pipeline in R (genes x cells)."
   ]
  },
  {
   "cell_type": "code",
   "execution_count": 2,
   "metadata": {},
   "outputs": [
    {
     "name": "stdout",
     "output_type": "stream",
     "text": [
      "AnnData object with n_obs × n_vars = 1195 × 36570\n"
     ]
    }
   ],
   "source": [
    "human_gast_norm = sc.read_csv('../../Data/norm_elmir_5_30_transposed.csv', delimiter=',')\n",
    "#change to your data path\n",
    "\n",
    "human_gast_norm = human_gast_norm.transpose()\n",
    "print(human_gast_norm)"
   ]
  },
  {
   "cell_type": "markdown",
   "metadata": {},
   "source": [
    "Calculate the PCA and from this the knn matrix for the dataset using the integrated scanpy function."
   ]
  },
  {
   "cell_type": "code",
   "execution_count": 3,
   "metadata": {},
   "outputs": [
    {
     "name": "stderr",
     "output_type": "stream",
     "text": [
      "/Library/Frameworks/Python.framework/Versions/3.9/lib/python3.9/site-packages/tqdm/auto.py:22: TqdmWarning: IProgress not found. Please update jupyter and ipywidgets. See https://ipywidgets.readthedocs.io/en/stable/user_install.html\n",
      "  from .autonotebook import tqdm as notebook_tqdm\n"
     ]
    },
    {
     "name": "stdout",
     "output_type": "stream",
     "text": [
      "(1195, 1195)\n"
     ]
    }
   ],
   "source": [
    "#sc.pp.highly_variable_genes(human_gast_norm, n_top_genes=2000)\n",
    "sc.tl.pca(human_gast_norm, n_comps=30)\n",
    "sc.pp.neighbors(human_gast_norm, n_neighbors=5, use_rep='X_pca')\n",
    "print(human_gast_norm.obsp[\"connectivities\"].shape)"
   ]
  },
  {
   "cell_type": "markdown",
   "metadata": {},
   "source": [
    "## CIARA algorithm\n",
    "\n",
    "### Step 1: Find background genes\n",
    "\n",
    "The background genes get calculated and added as boolean values to the gene metadata in the AnnData object (in column `human_gast_norm.var[\"CIARA_background\"]`):"
   ]
  },
  {
   "cell_type": "code",
   "execution_count": 4,
   "metadata": {},
   "outputs": [
    {
     "name": "stdout",
     "output_type": "stream",
     "text": [
      "Background genes: 5057\n",
      "Execution time: 0.07s\n"
     ]
    }
   ],
   "source": [
    "t = time.perf_counter()\n",
    "\n",
    "get_background_full(human_gast_norm, threshold=1, n_cells=3, n_cells_high=20)\n",
    "\n",
    "elapsed_time = time.perf_counter() - t\n",
    "print(\"Execution time: \" + str(np.round(elapsed_time, 2)) + \"s\")"
   ]
  },
  {
   "cell_type": "markdown",
   "metadata": {},
   "source": [
    "### Step 2: Calculate entropy of mixing of background genes\n",
    "\n",
    "The p value for each background gene is added to the gene metadata in the AnnData object (in column `human_gast_norm.var[\"CIARA_p_value\"]`):\n",
    "\n",
    "**Runtime (4-core MacBook Pro) per size of genes (no approximation):**\n",
    "- 1 gene: **0.2s**\n",
    "- 10 genes: **0.5s**\n",
    "- 100 genes: **4s**\n",
    "- 1000 genes: **10s**\n",
    "- 5057 genes *(this dataset)*: **270s**"
   ]
  },
  {
   "cell_type": "code",
   "execution_count": 35,
   "metadata": {},
   "outputs": [
    {
     "name": "stdout",
     "output_type": "stream",
     "text": [
      "\n",
      "## Running on 4 cores with a chunksize of 317\n",
      "\n",
      "---- Finished sucessfully! ----\n",
      "\n",
      "Execution Time: 26.88s\n"
     ]
    }
   ],
   "source": [
    "t = time.perf_counter()\n",
    "\n",
    "ciara(human_gast_norm, n_cores=4, p_value=0.001, odds_ratio=2, approximation=True, local_region=1)\n",
    "\n",
    "elapsed_time = time.perf_counter() - t\n",
    "print(\"\\nExecution Time: \" + str(np.round(elapsed_time, 2)) + \"s\")"
   ]
  },
  {
   "cell_type": "markdown",
   "metadata": {},
   "source": [
    "## Ciara results\n",
    "\n",
    "We receive an extended AnnData object that contains the results in its gene metadata:\n"
   ]
  },
  {
   "cell_type": "code",
   "execution_count": 36,
   "metadata": {},
   "outputs": [
    {
     "data": {
      "text/html": [
       "<div>\n",
       "<style scoped>\n",
       "    .dataframe tbody tr th:only-of-type {\n",
       "        vertical-align: middle;\n",
       "    }\n",
       "\n",
       "    .dataframe tbody tr th {\n",
       "        vertical-align: top;\n",
       "    }\n",
       "\n",
       "    .dataframe thead th {\n",
       "        text-align: right;\n",
       "    }\n",
       "</style>\n",
       "<table border=\"1\" class=\"dataframe\">\n",
       "  <thead>\n",
       "    <tr style=\"text-align: right;\">\n",
       "      <th></th>\n",
       "      <th>CIARA_p_value</th>\n",
       "      <th>CIARA_background</th>\n",
       "    </tr>\n",
       "  </thead>\n",
       "  <tbody>\n",
       "    <tr>\n",
       "      <th>A1BG</th>\n",
       "      <td>NaN</td>\n",
       "      <td>False</td>\n",
       "    </tr>\n",
       "    <tr>\n",
       "      <th>A1BG.AS1</th>\n",
       "      <td>NaN</td>\n",
       "      <td>False</td>\n",
       "    </tr>\n",
       "    <tr>\n",
       "      <th>A1CF</th>\n",
       "      <td>0.000115</td>\n",
       "      <td>True</td>\n",
       "    </tr>\n",
       "    <tr>\n",
       "      <th>A2M</th>\n",
       "      <td>NaN</td>\n",
       "      <td>False</td>\n",
       "    </tr>\n",
       "    <tr>\n",
       "      <th>A2M.AS1</th>\n",
       "      <td>NaN</td>\n",
       "      <td>False</td>\n",
       "    </tr>\n",
       "    <tr>\n",
       "      <th>...</th>\n",
       "      <td>...</td>\n",
       "      <td>...</td>\n",
       "    </tr>\n",
       "    <tr>\n",
       "      <th>ZXDC</th>\n",
       "      <td>1.000000</td>\n",
       "      <td>True</td>\n",
       "    </tr>\n",
       "    <tr>\n",
       "      <th>ZYG11A</th>\n",
       "      <td>NaN</td>\n",
       "      <td>False</td>\n",
       "    </tr>\n",
       "    <tr>\n",
       "      <th>ZYG11B</th>\n",
       "      <td>NaN</td>\n",
       "      <td>False</td>\n",
       "    </tr>\n",
       "    <tr>\n",
       "      <th>ZYX</th>\n",
       "      <td>NaN</td>\n",
       "      <td>False</td>\n",
       "    </tr>\n",
       "    <tr>\n",
       "      <th>ZZEF1</th>\n",
       "      <td>1.000000</td>\n",
       "      <td>True</td>\n",
       "    </tr>\n",
       "  </tbody>\n",
       "</table>\n",
       "<p>36570 rows × 2 columns</p>\n",
       "</div>"
      ],
      "text/plain": [
       "          CIARA_p_value  CIARA_background\n",
       "A1BG                NaN             False\n",
       "A1BG.AS1            NaN             False\n",
       "A1CF           0.000115              True\n",
       "A2M                 NaN             False\n",
       "A2M.AS1             NaN             False\n",
       "...                 ...               ...\n",
       "ZXDC           1.000000              True\n",
       "ZYG11A              NaN             False\n",
       "ZYG11B              NaN             False\n",
       "ZYX                 NaN             False\n",
       "ZZEF1          1.000000              True\n",
       "\n",
       "[36570 rows x 2 columns]"
      ]
     },
     "execution_count": 36,
     "metadata": {},
     "output_type": "execute_result"
    }
   ],
   "source": [
    "human_gast_norm.var"
   ]
  },
  {
   "cell_type": "markdown",
   "metadata": {},
   "source": [
    "We can now plot the top genes with lowest p-value on the UMAP of the dataset. For this we extract the top rare cell type marker genes identified by CIARA:"
   ]
  },
  {
   "cell_type": "code",
   "execution_count": 37,
   "metadata": {},
   "outputs": [
    {
     "data": {
      "text/html": [
       "<div>\n",
       "<style scoped>\n",
       "    .dataframe tbody tr th:only-of-type {\n",
       "        vertical-align: middle;\n",
       "    }\n",
       "\n",
       "    .dataframe tbody tr th {\n",
       "        vertical-align: top;\n",
       "    }\n",
       "\n",
       "    .dataframe thead th {\n",
       "        text-align: right;\n",
       "    }\n",
       "</style>\n",
       "<table border=\"1\" class=\"dataframe\">\n",
       "  <thead>\n",
       "    <tr style=\"text-align: right;\">\n",
       "      <th></th>\n",
       "      <th>CIARA_p_value</th>\n",
       "      <th>CIARA_background</th>\n",
       "    </tr>\n",
       "  </thead>\n",
       "  <tbody>\n",
       "    <tr>\n",
       "      <th>STAB2</th>\n",
       "      <td>6.390857e-11</td>\n",
       "      <td>True</td>\n",
       "    </tr>\n",
       "    <tr>\n",
       "      <th>GIMAP4</th>\n",
       "      <td>2.638277e-09</td>\n",
       "      <td>True</td>\n",
       "    </tr>\n",
       "    <tr>\n",
       "      <th>ECM1</th>\n",
       "      <td>2.164534e-08</td>\n",
       "      <td>True</td>\n",
       "    </tr>\n",
       "    <tr>\n",
       "      <th>OIT3</th>\n",
       "      <td>2.859037e-08</td>\n",
       "      <td>True</td>\n",
       "    </tr>\n",
       "  </tbody>\n",
       "</table>\n",
       "</div>"
      ],
      "text/plain": [
       "        CIARA_p_value  CIARA_background\n",
       "STAB2    6.390857e-11              True\n",
       "GIMAP4   2.638277e-09              True\n",
       "ECM1     2.164534e-08              True\n",
       "OIT3     2.859037e-08              True"
      ]
     },
     "execution_count": 37,
     "metadata": {},
     "output_type": "execute_result"
    }
   ],
   "source": [
    "top_markers = human_gast_norm.var.nsmallest(4, [\"CIARA_p_value\"],)\n",
    "top_markers"
   ]
  },
  {
   "cell_type": "markdown",
   "metadata": {},
   "source": [
    "Now we plot the expression of the top markers in the umap to identify the rare cells. Of course, by defining a threshold on these top markers we can then also subset the scanpy dataset to extract the rare cells."
   ]
  },
  {
   "cell_type": "code",
   "execution_count": 38,
   "metadata": {},
   "outputs": [
    {
     "data": {
      "image/png": "[encoded data removed]",
      "text/plain": [
       "<Figure size 1097.28x216 with 8 Axes>"
      ]
     },
     "metadata": {
      "needs_background": "light"
     },
     "output_type": "display_data"
    }
   ],
   "source": [
    "from matplotlib.pyplot import rc_context\n",
    "\n",
    "sc.tl.umap(human_gast_norm)\n",
    "\n",
    "with rc_context({'figure.figsize': (3, 3)}):\n",
    "    sc.pl.umap(human_gast_norm, color=top_markers.index.tolist())"
   ]
  }
 ],
 "metadata": {
  "kernelspec": {
   "display_name": "Python 3",
   "language": "python",
   "name": "python3"
  },
  "language_info": {
   "codemirror_mode": {
    "name": "ipython",
    "version": 3
   },
   "file_extension": ".py",
   "mimetype": "text/x-python",
   "name": "python",
   "nbconvert_exporter": "python",
   "pygments_lexer": "ipython3",
   "version": "3.9.5"
  }
 },
 "nbformat": 4,
 "nbformat_minor": 5
}
