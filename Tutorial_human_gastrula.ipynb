{
 "cells": [
  {
   "cell_type": "markdown",
   "id": "gorgeous-instruction",
   "metadata": {},
   "source": [
    "# Tutorial for human gastrula dataset"
   ]
  },
  {
   "cell_type": "markdown",
   "id": "characteristic-bruce",
   "metadata": {},
   "source": [
    "## Entropy of Mixing functions\n"
   ]
  },
  {
   "cell_type": "code",
   "execution_count": 15,
   "id": "published-stream",
   "metadata": {},
   "outputs": [],
   "source": [
    "import numpy as np\n",
    "from scipy.stats import fisher_exact, entropy\n",
    "import multiprocessing\n",
    "from functools import partial\n",
    "\n",
    "def get_background_full(norm_adata, threshold, n_cells, n_cells_high):\n",
    "\n",
    "    thr_per_gene = np.sum(norm_adata.X > threshold, axis=0)\n",
    "    genes_filter = np.logical_and(thr_per_gene >= n_cells, thr_per_gene <= n_cells_high)\n",
    "    print(\"Background genes: \" + str(np.sum(genes_filter)))\n",
    "\n",
    "    return genes_filter.tolist()\n",
    "\n",
    "def perform_sub_entropy(nn_gene_expression, binary_expression, p_value, odds_ratio=2):\n",
    "\n",
    "    entropy_nn, p_value_nn = 1, 1 \n",
    "    \n",
    "    if np.sum(nn_gene_expression) > 0:\n",
    "        input_fisher = np.array([[np.sum(nn_gene_expression), np.sum(binary_expression)-np.sum(nn_gene_expression)],\n",
    "                                [np.sum(~nn_gene_expression), np.sum(~binary_expression)-np.sum(~nn_gene_expression)]])\n",
    "        oddsr_test, p_test = fisher_exact(input_fisher, alternative = 'greater')\n",
    "        if p_test < p_value and oddsr_test > odds_ratio:\n",
    "            p_0 = np.sum(nn_gene_expression) / len(nn_gene_expression)\n",
    "            entropy_nn = entropy([p_0, 1 - p_0], base=2)\n",
    "            p_value_nn = p_test\n",
    "\n",
    "    return entropy_nn, p_value_nn\n",
    "\n",
    "def entropy_mixing_gene(gene, norm_adata, knn_matrix, p_value, odds_ratio, local_region, approximation):\n",
    "\n",
    "    gene_expression = norm_adata.X[:, norm_adata.var_names == gene].flatten()\n",
    "    binary_expression = gene_expression > np.median(gene_expression)\n",
    "    \n",
    "    if approximation:\n",
    "        knn_matrix = knn_matrix[binary_expression,:]\n",
    "    \n",
    "    entropies_nn = np.array([])\n",
    "    p_values_nn = np.array([])\n",
    "    for cell in range(knn_matrix.shape[0]):\n",
    "        nn_cell = knn_matrix[cell, :]\n",
    "        nn_gene_expression = binary_expression[nn_cell==1]\n",
    "        entropy_sub, p_value_sub = perform_sub_entropy(nn_gene_expression, binary_expression , p_value, odds_ratio)\n",
    "        entropies_nn = np.append(entropies_nn, entropy_sub)\n",
    "        p_values_nn = np.append(p_values_nn, p_value_sub)\n",
    "\n",
    "    if np.sum(entropies_nn < 1) >= local_region:\n",
    "        entropy_gene = np.min(entropies_nn)\n",
    "        p_value_gene = np.min(p_values_nn)\n",
    "    else:\n",
    "        entropy_gene = 1\n",
    "        p_value_gene = 1\n",
    "\n",
    "    return entropy_gene, p_value_gene\n",
    "\n",
    "def entropy_mixing(norm_adata, knn_matrix, n_cores, p_value, odds_ratio, local_region, approximation):\n",
    "    \n",
    "    assert((knn_matrix.index.values == knn_matrix.columns.values).all)\n",
    "    assert((norm_adata.obs_names == knn_matrix.index.values).all)\n",
    "    #knn_matrix is pandas dataframe in same orientation as Anndata.X (cellsxgenes)\n",
    "    #knn_matrix and Anndata.X should contain the cells in same order\n",
    "\n",
    "    background = norm_adata.var_names[norm_adata.var[\"EOM_background\"]]\n",
    "    knn_matrix = knn_matrix.to_numpy()\n",
    "    \n",
    "    pool = multiprocessing.Pool(n_cores)\n",
    "    temp = partial(entropy_mixing_gene, norm_adata=norm_adata, knn_matrix=knn_matrix, p_value=p_value, odds_ratio=odds_ratio, local_region=local_region, approximation=approximation)\n",
    "    results = pool.map(func=temp, iterable=background, chunksize=50)\n",
    "    pool.close()\n",
    "    pool.join()\n",
    "    \n",
    "    entropies_output = [np.NAN for i in range(len(norm_adata.var_names))]\n",
    "    p_values_output = [np.NAN for i in range(len(norm_adata.var_names))]\n",
    "    for index, gene in enumerate(background):\n",
    "        entropies_output[norm_adata.var_names.get_loc(gene)] = results[index][0]\n",
    "        p_values_output[norm_adata.var_names.get_loc(gene)] = results[index][1]\n",
    "    \n",
    "    print('\\n---- Finished sucessfully! ----')\n",
    "\n",
    "    return entropies_output, p_values_output\n"
   ]
  },
  {
   "cell_type": "markdown",
   "id": "activated-think",
   "metadata": {},
   "source": [
    "## Import human gastrula dataset and KNN matrix\n",
    "\n",
    "Note that for Anndata object the count matrix is transposed (cells x genes) compared to the Seurat pipeline in R (genes x cells)."
   ]
  },
  {
   "cell_type": "code",
   "execution_count": 2,
   "id": "better-uncertainty",
   "metadata": {},
   "outputs": [
    {
     "name": "stdout",
     "output_type": "stream",
     "text": [
      "AnnData object with n_obs × n_vars = 1195 × 36570\n"
     ]
    }
   ],
   "source": [
    "import scanpy as sc\n",
    "import pandas as pd\n",
    "\n",
    "human_gast_norm = sc.read_csv('/root/host_home/Documents/EntropyOfMixing/Data/norm_elmir_5_30_transposed.csv', delimiter=',')\n",
    "human_gast_norm = human_gast_norm.transpose()\n",
    "print(human_gast_norm)\n",
    "\n",
    "knn_matrix = pd.read_csv('/root/host_home/Documents/EntropyOfMixing/Data/knn_matrix_elmir_5_30.csv', delimiter=',', index_col=0)\n"
   ]
  },
  {
   "cell_type": "markdown",
   "id": "mysterious-riverside",
   "metadata": {},
   "source": [
    "## Entropy of mixing algorithm\n",
    "\n",
    "**Step 1: Find background genes**\n",
    "\n",
    "The background genes get calculated and added to the gene metadata in the AnnData object:"
   ]
  },
  {
   "cell_type": "code",
   "execution_count": 20,
   "id": "wrong-hundred",
   "metadata": {},
   "outputs": [
    {
     "name": "stdout",
     "output_type": "stream",
     "text": [
      "Background genes: 8812\n",
      "Execution time: 0.07s\n"
     ]
    }
   ],
   "source": [
    "import time\n",
    "\n",
    "t = time.time()\n",
    "\n",
    "human_gast_norm.var[\"EOM_background\"] = get_background_full(human_gast_norm, threshold=1, n_cells=10, n_cells_high=1000)\n",
    "\n",
    "elapsed_time = time.time() - t\n",
    "print(\"Execution time: \" + str(np.round(elapsed_time, 2)) + \"s\")"
   ]
  },
  {
   "cell_type": "markdown",
   "id": "based-convention",
   "metadata": {},
   "source": [
    "**Step 2: Calculate entropy of mixing of background genes**\n",
    "\n",
    "The entropy and related p value for each background gene are added to the gene metadata in the AnnData object:"
   ]
  },
  {
   "cell_type": "code",
   "execution_count": 23,
   "id": "interracial-klein",
   "metadata": {},
   "outputs": [
    {
     "name": "stdout",
     "output_type": "stream",
     "text": [
      "\n",
      "---- Finished sucessfully! ----\n",
      "\n",
      "Execution Time: 3.9s\n"
     ]
    }
   ],
   "source": [
    "human_gast_small = human_gast_norm[:,0:100]\n",
    "human_gast_small = human_gast_small.copy()\n",
    "\n",
    "t = time.time()\n",
    "\n",
    "entropies, p_values = entropy_mixing(human_gast_small, knn_matrix, n_cores=8, p_value=0.001, odds_ratio=2, approximation=True, local_region=2)\n",
    "\n",
    "elapsed_time = time.time() - t\n",
    "print(\"\\nExecution Time: \" + str(np.round(elapsed_time, 2)) + \"s\")\n",
    "\n",
    "human_gast_small.var[\"EOM_entropy\"] = entropies\n",
    "human_gast_small.var[\"EOM_p_value\"] = p_values"
   ]
  },
  {
   "cell_type": "markdown",
   "id": "alternative-version",
   "metadata": {},
   "source": [
    "## Entropy of mixing results\n",
    "\n",
    "We receive an extended AnnData object that contains the entropy of mixing results in its gene metadata:\n"
   ]
  },
  {
   "cell_type": "code",
   "execution_count": 25,
   "id": "nonprofit-disease",
   "metadata": {},
   "outputs": [
    {
     "data": {
      "text/html": [
       "<div>\n",
       "<style scoped>\n",
       "    .dataframe tbody tr th:only-of-type {\n",
       "        vertical-align: middle;\n",
       "    }\n",
       "\n",
       "    .dataframe tbody tr th {\n",
       "        vertical-align: top;\n",
       "    }\n",
       "\n",
       "    .dataframe thead th {\n",
       "        text-align: right;\n",
       "    }\n",
       "</style>\n",
       "<table border=\"1\" class=\"dataframe\">\n",
       "  <thead>\n",
       "    <tr style=\"text-align: right;\">\n",
       "      <th></th>\n",
       "      <th>EOM_background</th>\n",
       "      <th>EOM_entropy</th>\n",
       "      <th>EOM_p_value</th>\n",
       "    </tr>\n",
       "  </thead>\n",
       "  <tbody>\n",
       "    <tr>\n",
       "      <th>A1BG</th>\n",
       "      <td>False</td>\n",
       "      <td>NaN</td>\n",
       "      <td>NaN</td>\n",
       "    </tr>\n",
       "    <tr>\n",
       "      <th>A1BG.AS1</th>\n",
       "      <td>False</td>\n",
       "      <td>NaN</td>\n",
       "      <td>NaN</td>\n",
       "    </tr>\n",
       "    <tr>\n",
       "      <th>A1CF</th>\n",
       "      <td>False</td>\n",
       "      <td>NaN</td>\n",
       "      <td>NaN</td>\n",
       "    </tr>\n",
       "    <tr>\n",
       "      <th>A2M</th>\n",
       "      <td>True</td>\n",
       "      <td>0.000000</td>\n",
       "      <td>1.570408e-07</td>\n",
       "    </tr>\n",
       "    <tr>\n",
       "      <th>A2M.AS1</th>\n",
       "      <td>False</td>\n",
       "      <td>NaN</td>\n",
       "      <td>NaN</td>\n",
       "    </tr>\n",
       "    <tr>\n",
       "      <th>...</th>\n",
       "      <td>...</td>\n",
       "      <td>...</td>\n",
       "      <td>...</td>\n",
       "    </tr>\n",
       "    <tr>\n",
       "      <th>ABHD12B</th>\n",
       "      <td>False</td>\n",
       "      <td>NaN</td>\n",
       "      <td>NaN</td>\n",
       "    </tr>\n",
       "    <tr>\n",
       "      <th>ABHD13</th>\n",
       "      <td>True</td>\n",
       "      <td>1.000000</td>\n",
       "      <td>1.000000e+00</td>\n",
       "    </tr>\n",
       "    <tr>\n",
       "      <th>ABHD14A</th>\n",
       "      <td>True</td>\n",
       "      <td>1.000000</td>\n",
       "      <td>1.000000e+00</td>\n",
       "    </tr>\n",
       "    <tr>\n",
       "      <th>ABHD14A.ACY1</th>\n",
       "      <td>False</td>\n",
       "      <td>NaN</td>\n",
       "      <td>NaN</td>\n",
       "    </tr>\n",
       "    <tr>\n",
       "      <th>ABHD14B</th>\n",
       "      <td>True</td>\n",
       "      <td>0.721928</td>\n",
       "      <td>1.767710e-04</td>\n",
       "    </tr>\n",
       "  </tbody>\n",
       "</table>\n",
       "<p>100 rows × 3 columns</p>\n",
       "</div>"
      ],
      "text/plain": [
       "              EOM_background  EOM_entropy   EOM_p_value\n",
       "A1BG                   False          NaN           NaN\n",
       "A1BG.AS1               False          NaN           NaN\n",
       "A1CF                   False          NaN           NaN\n",
       "A2M                     True     0.000000  1.570408e-07\n",
       "A2M.AS1                False          NaN           NaN\n",
       "...                      ...          ...           ...\n",
       "ABHD12B                False          NaN           NaN\n",
       "ABHD13                  True     1.000000  1.000000e+00\n",
       "ABHD14A                 True     1.000000  1.000000e+00\n",
       "ABHD14A.ACY1           False          NaN           NaN\n",
       "ABHD14B                 True     0.721928  1.767710e-04\n",
       "\n",
       "[100 rows x 3 columns]"
      ]
     },
     "execution_count": 25,
     "metadata": {},
     "output_type": "execute_result"
    }
   ],
   "source": [
    "human_gast_small.var"
   ]
  },
  {
   "cell_type": "code",
   "execution_count": null,
   "id": "mysterious-volunteer",
   "metadata": {},
   "outputs": [],
   "source": []
  },
  {
   "cell_type": "markdown",
   "id": "conscious-external",
   "metadata": {},
   "source": [
    "#"
   ]
  },
  {
   "cell_type": "code",
   "execution_count": null,
   "id": "provincial-concern",
   "metadata": {},
   "outputs": [],
   "source": []
  }
 ],
 "metadata": {
  "kernelspec": {
   "display_name": "Python 3",
   "language": "python",
   "name": "python3"
  },
  "language_info": {
   "codemirror_mode": {
    "name": "ipython",
    "version": 3
   },
   "file_extension": ".py",
   "mimetype": "text/x-python",
   "name": "python",
   "nbconvert_exporter": "python",
   "pygments_lexer": "ipython3",
   "version": "3.8.6"
  }
 },
 "nbformat": 4,
 "nbformat_minor": 5
}
