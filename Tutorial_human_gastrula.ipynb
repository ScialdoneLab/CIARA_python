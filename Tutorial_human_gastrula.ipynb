{
 "cells": [
  {
   "cell_type": "markdown",
   "id": "moderate-sheffield",
   "metadata": {},
   "source": [
    "# Tutorial for human gastrula dataset"
   ]
  },
  {
   "cell_type": "markdown",
   "id": "floral-processing",
   "metadata": {},
   "source": [
    "## Entropy of Mixing functions\n",
    "Install entropy of mixing package over pip (can of course also be done in command line)"
   ]
  },
  {
   "cell_type": "code",
   "execution_count": 2,
   "id": "bulgarian-driver",
   "metadata": {},
   "outputs": [
    {
     "name": "stdout",
     "output_type": "stream",
     "text": [
      "Requirement already satisfied: entropyofmixing in /opt/python/lib/python3.8/site-packages (0.9.3)\n",
      "Collecting entropyofmixing\n",
      "  Downloading entropyofmixing-0.9.4-py3-none-any.whl (4.0 kB)\n",
      "Requirement already satisfied: numpy in /opt/python/lib/python3.8/site-packages (from entropyofmixing) (1.19.5)\n",
      "Requirement already satisfied: scipy in /opt/python/lib/python3.8/site-packages (from entropyofmixing) (1.6.0)\n",
      "Installing collected packages: entropyofmixing\n",
      "  Attempting uninstall: entropyofmixing\n",
      "    Found existing installation: entropyofmixing 0.9.3\n",
      "    Uninstalling entropyofmixing-0.9.3:\n",
      "      Successfully uninstalled entropyofmixing-0.9.3\n",
      "Successfully installed entropyofmixing-0.9.4\n",
      "\u001b[33mWARNING: Running pip as the 'root' user can result in broken permissions and conflicting behaviour with the system package manager. It is recommended to use a virtual environment instead: https://pip.pypa.io/warnings/venv\u001b[0m\n"
     ]
    }
   ],
   "source": [
    "import sys\n",
    "!{sys.executable} -m pip install --upgrade entropyofmixing"
   ]
  },
  {
   "cell_type": "markdown",
   "id": "devoted-distributor",
   "metadata": {},
   "source": [
    "Import the two important entropyofmixing functions"
   ]
  },
  {
   "cell_type": "code",
   "execution_count": 6,
   "id": "silent-variety",
   "metadata": {},
   "outputs": [],
   "source": [
    "from entropyofmixing import get_background_full, entropy_mixing"
   ]
  },
  {
   "cell_type": "markdown",
   "id": "conservative-waterproof",
   "metadata": {},
   "source": [
    "## Import human gastrula dataset and KNN matrix\n",
    "\n",
    "Note that for Anndata object the count matrix is transposed (cells x genes) compared to the Seurat pipeline in R (genes x cells)."
   ]
  },
  {
   "cell_type": "code",
   "execution_count": 2,
   "id": "incredible-richardson",
   "metadata": {},
   "outputs": [
    {
     "name": "stdout",
     "output_type": "stream",
     "text": [
      "AnnData object with n_obs × n_vars = 1195 × 36570\n"
     ]
    }
   ],
   "source": [
    "import scanpy as sc\n",
    "import pandas as pd\n",
    "\n",
    "human_gast_norm = sc.read_csv('/root/host_home/Documents/EntropyOfMixing/Data/norm_elmir_5_30_transposed.csv', delimiter=',')\n",
    "human_gast_norm = human_gast_norm.transpose()\n",
    "print(human_gast_norm)\n",
    "\n",
    "knn_matrix = pd.read_csv('/root/host_home/Documents/EntropyOfMixing/Data/knn_matrix_elmir_5_30.csv', delimiter=',', index_col=0)\n"
   ]
  },
  {
   "cell_type": "markdown",
   "id": "related-washington",
   "metadata": {},
   "source": [
    "## Entropy of mixing algorithm\n",
    "\n",
    "**Step 1: Find background genes**\n",
    "\n",
    "The background genes get calculated and added to the gene metadata in the AnnData object:"
   ]
  },
  {
   "cell_type": "code",
   "execution_count": 5,
   "id": "nonprofit-advocate",
   "metadata": {},
   "outputs": [
    {
     "name": "stdout",
     "output_type": "stream",
     "text": [
      "Background genes: 8812\n",
      "Execution time: 0.09s\n"
     ]
    }
   ],
   "source": [
    "import time\n",
    "import numpy as np\n",
    "\n",
    "t = time.perf_counter()\n",
    "\n",
    "human_gast_norm.var[\"EOM_background\"] = get_background_full(human_gast_norm, threshold=1, n_cells=10, n_cells_high=1000)\n",
    "\n",
    "elapsed_time = time.perf_counter() - t\n",
    "print(\"Execution time: \" + str(np.round(elapsed_time, 2)) + \"s\")\n",
    "\n",
    "#background_genes = norm_adata.var_names[norm_adata.var[\"EOM_background\"]]"
   ]
  },
  {
   "cell_type": "markdown",
   "id": "pursuant-complex",
   "metadata": {},
   "source": [
    "**Step 2: Calculate entropy of mixing of background genes**\n",
    "\n",
    "The entropy and related p value for each background gene are added to the gene metadata in the AnnData object:"
   ]
  },
  {
   "cell_type": "code",
   "execution_count": 7,
   "id": "statewide-hampshire",
   "metadata": {},
   "outputs": [
    {
     "name": "stdout",
     "output_type": "stream",
     "text": [
      "\n",
      "---- Finished sucessfully! ----\n",
      "\n",
      "Execution Time: 6.47s\n"
     ]
    }
   ],
   "source": [
    "#human_gast_small = human_gast_norm[:,0:1000]\n",
    "#human_gast_small = human_gast_small.copy()\n",
    "\n",
    "t = time.perf_counter()\n",
    "\n",
    "entropies, p_values = entropy_mixing(human_gast_norm, knn_matrix, n_cores=8, p_value=0.001, odds_ratio=2, approximation=True, local_region=2)\n",
    "\n",
    "elapsed_time = time.perf_counter() - t\n",
    "print(\"\\nExecution Time: \" + str(np.round(elapsed_time, 2)) + \"s\")\n",
    "\n",
    "human_gast_norm.var[\"EOM_entropy\"] = entropies\n",
    "human_gast_norm.var[\"EOM_p_value\"] = p_values"
   ]
  },
  {
   "cell_type": "markdown",
   "id": "classical-definition",
   "metadata": {},
   "source": [
    "## Entropy of mixing results\n",
    "\n",
    "We receive an extended AnnData object that contains the entropy of mixing results in its gene metadata:\n"
   ]
  },
  {
   "cell_type": "code",
   "execution_count": 79,
   "id": "present-shower",
   "metadata": {},
   "outputs": [
    {
     "data": {
      "text/html": [
       "<div>\n",
       "<style scoped>\n",
       "    .dataframe tbody tr th:only-of-type {\n",
       "        vertical-align: middle;\n",
       "    }\n",
       "\n",
       "    .dataframe tbody tr th {\n",
       "        vertical-align: top;\n",
       "    }\n",
       "\n",
       "    .dataframe thead th {\n",
       "        text-align: right;\n",
       "    }\n",
       "</style>\n",
       "<table border=\"1\" class=\"dataframe\">\n",
       "  <thead>\n",
       "    <tr style=\"text-align: right;\">\n",
       "      <th></th>\n",
       "      <th>EOM_background</th>\n",
       "      <th>EOM_entropy</th>\n",
       "      <th>EOM_p_value</th>\n",
       "    </tr>\n",
       "  </thead>\n",
       "  <tbody>\n",
       "    <tr>\n",
       "      <th>A1BG</th>\n",
       "      <td>False</td>\n",
       "      <td>NaN</td>\n",
       "      <td>NaN</td>\n",
       "    </tr>\n",
       "    <tr>\n",
       "      <th>A1BG.AS1</th>\n",
       "      <td>False</td>\n",
       "      <td>NaN</td>\n",
       "      <td>NaN</td>\n",
       "    </tr>\n",
       "    <tr>\n",
       "      <th>A1CF</th>\n",
       "      <td>False</td>\n",
       "      <td>NaN</td>\n",
       "      <td>NaN</td>\n",
       "    </tr>\n",
       "    <tr>\n",
       "      <th>A2M</th>\n",
       "      <td>True</td>\n",
       "      <td>0.0</td>\n",
       "      <td>1.570408e-07</td>\n",
       "    </tr>\n",
       "    <tr>\n",
       "      <th>A2M.AS1</th>\n",
       "      <td>False</td>\n",
       "      <td>NaN</td>\n",
       "      <td>NaN</td>\n",
       "    </tr>\n",
       "    <tr>\n",
       "      <th>...</th>\n",
       "      <td>...</td>\n",
       "      <td>...</td>\n",
       "      <td>...</td>\n",
       "    </tr>\n",
       "    <tr>\n",
       "      <th>ZXDC</th>\n",
       "      <td>False</td>\n",
       "      <td>NaN</td>\n",
       "      <td>NaN</td>\n",
       "    </tr>\n",
       "    <tr>\n",
       "      <th>ZYG11A</th>\n",
       "      <td>False</td>\n",
       "      <td>NaN</td>\n",
       "      <td>NaN</td>\n",
       "    </tr>\n",
       "    <tr>\n",
       "      <th>ZYG11B</th>\n",
       "      <td>True</td>\n",
       "      <td>1.0</td>\n",
       "      <td>1.000000e+00</td>\n",
       "    </tr>\n",
       "    <tr>\n",
       "      <th>ZYX</th>\n",
       "      <td>True</td>\n",
       "      <td>1.0</td>\n",
       "      <td>1.000000e+00</td>\n",
       "    </tr>\n",
       "    <tr>\n",
       "      <th>ZZEF1</th>\n",
       "      <td>False</td>\n",
       "      <td>NaN</td>\n",
       "      <td>NaN</td>\n",
       "    </tr>\n",
       "  </tbody>\n",
       "</table>\n",
       "<p>36570 rows × 3 columns</p>\n",
       "</div>"
      ],
      "text/plain": [
       "          EOM_background  EOM_entropy   EOM_p_value\n",
       "A1BG               False          NaN           NaN\n",
       "A1BG.AS1           False          NaN           NaN\n",
       "A1CF               False          NaN           NaN\n",
       "A2M                 True          0.0  1.570408e-07\n",
       "A2M.AS1            False          NaN           NaN\n",
       "...                  ...          ...           ...\n",
       "ZXDC               False          NaN           NaN\n",
       "ZYG11A             False          NaN           NaN\n",
       "ZYG11B              True          1.0  1.000000e+00\n",
       "ZYX                 True          1.0  1.000000e+00\n",
       "ZZEF1              False          NaN           NaN\n",
       "\n",
       "[36570 rows x 3 columns]"
      ]
     },
     "execution_count": 79,
     "metadata": {},
     "output_type": "execute_result"
    }
   ],
   "source": [
    "human_gast_norm.var"
   ]
  }
 ],
 "metadata": {
  "kernelspec": {
   "display_name": "Python 3",
   "language": "python",
   "name": "python3"
  },
  "language_info": {
   "codemirror_mode": {
    "name": "ipython",
    "version": 3
   },
   "file_extension": ".py",
   "mimetype": "text/x-python",
   "name": "python",
   "nbconvert_exporter": "python",
   "pygments_lexer": "ipython3",
   "version": "3.8.6"
  }
 },
 "nbformat": 4,
 "nbformat_minor": 5
}
